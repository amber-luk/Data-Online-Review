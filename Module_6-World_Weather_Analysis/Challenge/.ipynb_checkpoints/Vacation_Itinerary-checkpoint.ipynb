{
 "cells": [
  {
   "cell_type": "code",
   "execution_count": 1,
   "metadata": {},
   "outputs": [],
   "source": [
    "# Import the dependencies.\n",
    "import pandas as pd\n",
    "import numpy as np\n",
    "from citipy import citipy\n",
    "from datetime import datetime\n",
    "import gmaps\n",
    "import requests\n",
    "\n",
    "# Import the API keys.\n",
    "from config import weather_api_key\n",
    "from config import g_key"
   ]
  },
  {
   "cell_type": "code",
   "execution_count": 4,
   "metadata": {},
   "outputs": [
    {
     "data": {
      "text/html": [
       "<div>\n",
       "<style scoped>\n",
       "    .dataframe tbody tr th:only-of-type {\n",
       "        vertical-align: middle;\n",
       "    }\n",
       "\n",
       "    .dataframe tbody tr th {\n",
       "        vertical-align: top;\n",
       "    }\n",
       "\n",
       "    .dataframe thead th {\n",
       "        text-align: right;\n",
       "    }\n",
       "</style>\n",
       "<table border=\"1\" class=\"dataframe\">\n",
       "  <thead>\n",
       "    <tr style=\"text-align: right;\">\n",
       "      <th></th>\n",
       "      <th>Unnamed: 0</th>\n",
       "      <th>City</th>\n",
       "      <th>Country</th>\n",
       "      <th>Date</th>\n",
       "      <th>Lat</th>\n",
       "      <th>Lng</th>\n",
       "      <th>Max Temp</th>\n",
       "      <th>Humidity</th>\n",
       "      <th>Cloudiness</th>\n",
       "      <th>Wind Speed</th>\n",
       "      <th>Rain in Last 3 Hours (inches)</th>\n",
       "      <th>Snow in Last 3 Hours (inches)</th>\n",
       "      <th>Weather Description</th>\n",
       "      <th>Hotel Name</th>\n",
       "    </tr>\n",
       "  </thead>\n",
       "  <tbody>\n",
       "    <tr>\n",
       "      <td>0</td>\n",
       "      <td>1</td>\n",
       "      <td>Isla Mujeres</td>\n",
       "      <td>MX</td>\n",
       "      <td>2019-10-22 06:25:23</td>\n",
       "      <td>21.23</td>\n",
       "      <td>-86.73</td>\n",
       "      <td>82.40</td>\n",
       "      <td>83</td>\n",
       "      <td>5</td>\n",
       "      <td>9.17</td>\n",
       "      <td>0.0</td>\n",
       "      <td>0.0</td>\n",
       "      <td>clear sky</td>\n",
       "      <td>Hotel La Joya Isla Mujeres</td>\n",
       "    </tr>\n",
       "    <tr>\n",
       "      <td>1</td>\n",
       "      <td>8</td>\n",
       "      <td>Shingu</td>\n",
       "      <td>JP</td>\n",
       "      <td>2019-10-22 06:25:25</td>\n",
       "      <td>33.72</td>\n",
       "      <td>135.99</td>\n",
       "      <td>75.20</td>\n",
       "      <td>57</td>\n",
       "      <td>40</td>\n",
       "      <td>16.11</td>\n",
       "      <td>0.0</td>\n",
       "      <td>0.0</td>\n",
       "      <td>scattered clouds</td>\n",
       "      <td>新宮ユーアイホテル</td>\n",
       "    </tr>\n",
       "    <tr>\n",
       "      <td>2</td>\n",
       "      <td>12</td>\n",
       "      <td>Kapaa</td>\n",
       "      <td>US</td>\n",
       "      <td>2019-10-22 06:22:34</td>\n",
       "      <td>22.08</td>\n",
       "      <td>-159.32</td>\n",
       "      <td>80.60</td>\n",
       "      <td>83</td>\n",
       "      <td>90</td>\n",
       "      <td>14.99</td>\n",
       "      <td>0.0</td>\n",
       "      <td>0.0</td>\n",
       "      <td>overcast clouds</td>\n",
       "      <td>Courtyard by Marriott Kaua'i at Coconut Beach</td>\n",
       "    </tr>\n",
       "    <tr>\n",
       "      <td>3</td>\n",
       "      <td>19</td>\n",
       "      <td>Vaini</td>\n",
       "      <td>IN</td>\n",
       "      <td>2019-10-22 06:22:50</td>\n",
       "      <td>15.34</td>\n",
       "      <td>74.49</td>\n",
       "      <td>80.60</td>\n",
       "      <td>69</td>\n",
       "      <td>75</td>\n",
       "      <td>9.17</td>\n",
       "      <td>0.0</td>\n",
       "      <td>0.0</td>\n",
       "      <td>broken clouds</td>\n",
       "      <td>Dandeli Lake County</td>\n",
       "    </tr>\n",
       "    <tr>\n",
       "      <td>4</td>\n",
       "      <td>20</td>\n",
       "      <td>Ligayan</td>\n",
       "      <td>PH</td>\n",
       "      <td>2019-10-22 06:25:29</td>\n",
       "      <td>4.65</td>\n",
       "      <td>119.47</td>\n",
       "      <td>84.92</td>\n",
       "      <td>68</td>\n",
       "      <td>76</td>\n",
       "      <td>5.12</td>\n",
       "      <td>0.0</td>\n",
       "      <td>0.0</td>\n",
       "      <td>broken clouds</td>\n",
       "      <td>NaN</td>\n",
       "    </tr>\n",
       "  </tbody>\n",
       "</table>\n",
       "</div>"
      ],
      "text/plain": [
       "   Unnamed: 0          City Country                 Date    Lat     Lng  \\\n",
       "0           1  Isla Mujeres      MX  2019-10-22 06:25:23  21.23  -86.73   \n",
       "1           8        Shingu      JP  2019-10-22 06:25:25  33.72  135.99   \n",
       "2          12         Kapaa      US  2019-10-22 06:22:34  22.08 -159.32   \n",
       "3          19         Vaini      IN  2019-10-22 06:22:50  15.34   74.49   \n",
       "4          20       Ligayan      PH  2019-10-22 06:25:29   4.65  119.47   \n",
       "\n",
       "   Max Temp  Humidity  Cloudiness  Wind Speed  Rain in Last 3 Hours (inches)  \\\n",
       "0     82.40        83           5        9.17                            0.0   \n",
       "1     75.20        57          40       16.11                            0.0   \n",
       "2     80.60        83          90       14.99                            0.0   \n",
       "3     80.60        69          75        9.17                            0.0   \n",
       "4     84.92        68          76        5.12                            0.0   \n",
       "\n",
       "   Snow in Last 3 Hours (inches) Weather Description  \\\n",
       "0                            0.0           clear sky   \n",
       "1                            0.0    scattered clouds   \n",
       "2                            0.0     overcast clouds   \n",
       "3                            0.0       broken clouds   \n",
       "4                            0.0       broken clouds   \n",
       "\n",
       "                                      Hotel Name  \n",
       "0                     Hotel La Joya Isla Mujeres  \n",
       "1                                      新宮ユーアイホテル  \n",
       "2  Courtyard by Marriott Kaua'i at Coconut Beach  \n",
       "3                            Dandeli Lake County  \n",
       "4                                            NaN  "
      ]
     },
     "execution_count": 4,
     "metadata": {},
     "output_type": "execute_result"
    }
   ],
   "source": [
    "vacation_df = pd.read_csv(\"Resources/vacation.csv\")\n",
    "vacation_df.head()"
   ]
  },
  {
   "cell_type": "code",
   "execution_count": 20,
   "metadata": {},
   "outputs": [
    {
     "data": {
      "text/html": [
       "<div>\n",
       "<style scoped>\n",
       "    .dataframe tbody tr th:only-of-type {\n",
       "        vertical-align: middle;\n",
       "    }\n",
       "\n",
       "    .dataframe tbody tr th {\n",
       "        vertical-align: top;\n",
       "    }\n",
       "\n",
       "    .dataframe thead th {\n",
       "        text-align: right;\n",
       "    }\n",
       "</style>\n",
       "<table border=\"1\" class=\"dataframe\">\n",
       "  <thead>\n",
       "    <tr style=\"text-align: right;\">\n",
       "      <th></th>\n",
       "      <th>Unnamed: 0</th>\n",
       "      <th>City</th>\n",
       "      <th>Country</th>\n",
       "      <th>Date</th>\n",
       "      <th>Lat</th>\n",
       "      <th>Lng</th>\n",
       "      <th>Max Temp</th>\n",
       "      <th>Humidity</th>\n",
       "      <th>Cloudiness</th>\n",
       "      <th>Wind Speed</th>\n",
       "      <th>Rain in Last 3 Hours (inches)</th>\n",
       "      <th>Snow in Last 3 Hours (inches)</th>\n",
       "      <th>Weather Description</th>\n",
       "      <th>Hotel Name</th>\n",
       "    </tr>\n",
       "  </thead>\n",
       "  <tbody>\n",
       "    <tr>\n",
       "      <td>24</td>\n",
       "      <td>89</td>\n",
       "      <td>Carutapera</td>\n",
       "      <td>BR</td>\n",
       "      <td>2019-10-22 06:25:50</td>\n",
       "      <td>-1.20</td>\n",
       "      <td>-46.02</td>\n",
       "      <td>79.92</td>\n",
       "      <td>82</td>\n",
       "      <td>34</td>\n",
       "      <td>12.62</td>\n",
       "      <td>0.0</td>\n",
       "      <td>0.0</td>\n",
       "      <td>scattered clouds</td>\n",
       "      <td>Lidera</td>\n",
       "    </tr>\n",
       "    <tr>\n",
       "      <td>39</td>\n",
       "      <td>139</td>\n",
       "      <td>Morros</td>\n",
       "      <td>BR</td>\n",
       "      <td>2019-10-22 06:26:04</td>\n",
       "      <td>-2.87</td>\n",
       "      <td>-44.04</td>\n",
       "      <td>78.80</td>\n",
       "      <td>88</td>\n",
       "      <td>20</td>\n",
       "      <td>9.17</td>\n",
       "      <td>0.0</td>\n",
       "      <td>0.0</td>\n",
       "      <td>few clouds</td>\n",
       "      <td>Pousada Quebra Anzol</td>\n",
       "    </tr>\n",
       "    <tr>\n",
       "      <td>122</td>\n",
       "      <td>472</td>\n",
       "      <td>Vila Velha</td>\n",
       "      <td>BR</td>\n",
       "      <td>2019-10-22 06:23:57</td>\n",
       "      <td>-3.71</td>\n",
       "      <td>-38.60</td>\n",
       "      <td>78.80</td>\n",
       "      <td>78</td>\n",
       "      <td>40</td>\n",
       "      <td>5.82</td>\n",
       "      <td>0.0</td>\n",
       "      <td>0.0</td>\n",
       "      <td>scattered clouds</td>\n",
       "      <td>Hotel Iparana Paradise</td>\n",
       "    </tr>\n",
       "    <tr>\n",
       "      <td>136</td>\n",
       "      <td>520</td>\n",
       "      <td>Itarema</td>\n",
       "      <td>BR</td>\n",
       "      <td>2019-10-22 06:23:52</td>\n",
       "      <td>-2.92</td>\n",
       "      <td>-39.92</td>\n",
       "      <td>77.22</td>\n",
       "      <td>73</td>\n",
       "      <td>73</td>\n",
       "      <td>7.16</td>\n",
       "      <td>0.0</td>\n",
       "      <td>0.0</td>\n",
       "      <td>broken clouds</td>\n",
       "      <td>Windvillage</td>\n",
       "    </tr>\n",
       "  </tbody>\n",
       "</table>\n",
       "</div>"
      ],
      "text/plain": [
       "     Unnamed: 0        City Country                 Date   Lat    Lng  \\\n",
       "24           89  Carutapera      BR  2019-10-22 06:25:50 -1.20 -46.02   \n",
       "39          139      Morros      BR  2019-10-22 06:26:04 -2.87 -44.04   \n",
       "122         472  Vila Velha      BR  2019-10-22 06:23:57 -3.71 -38.60   \n",
       "136         520     Itarema      BR  2019-10-22 06:23:52 -2.92 -39.92   \n",
       "\n",
       "     Max Temp  Humidity  Cloudiness  Wind Speed  \\\n",
       "24      79.92        82          34       12.62   \n",
       "39      78.80        88          20        9.17   \n",
       "122     78.80        78          40        5.82   \n",
       "136     77.22        73          73        7.16   \n",
       "\n",
       "     Rain in Last 3 Hours (inches)  Snow in Last 3 Hours (inches)  \\\n",
       "24                             0.0                            0.0   \n",
       "39                             0.0                            0.0   \n",
       "122                            0.0                            0.0   \n",
       "136                            0.0                            0.0   \n",
       "\n",
       "    Weather Description              Hotel Name  \n",
       "24     scattered clouds                  Lidera  \n",
       "39           few clouds    Pousada Quebra Anzol  \n",
       "122    scattered clouds  Hotel Iparana Paradise  \n",
       "136       broken clouds             Windvillage  "
      ]
     },
     "execution_count": 20,
     "metadata": {},
     "output_type": "execute_result"
    }
   ],
   "source": [
    "four_cities_df = vacation_df.loc[(vacation_df[\"City\"] == \"Vila Velha\") | \\\n",
    "                                (vacation_df[\"City\"] == \"Itarema\") | \\\n",
    "                                (vacation_df[\"City\"] == \"Morros\") | \\\n",
    "                                 (vacation_df[\"City\"] == \"Carutapera\")]\n",
    "four_cities_df"
   ]
  },
  {
   "cell_type": "code",
   "execution_count": 5,
   "metadata": {},
   "outputs": [
    {
     "data": {
      "text/html": [
       "<div>\n",
       "<style scoped>\n",
       "    .dataframe tbody tr th:only-of-type {\n",
       "        vertical-align: middle;\n",
       "    }\n",
       "\n",
       "    .dataframe tbody tr th {\n",
       "        vertical-align: top;\n",
       "    }\n",
       "\n",
       "    .dataframe thead th {\n",
       "        text-align: right;\n",
       "    }\n",
       "</style>\n",
       "<table border=\"1\" class=\"dataframe\">\n",
       "  <thead>\n",
       "    <tr style=\"text-align: right;\">\n",
       "      <th></th>\n",
       "      <th>Unnamed: 0</th>\n",
       "      <th>City</th>\n",
       "      <th>Country</th>\n",
       "      <th>Date</th>\n",
       "      <th>Lat</th>\n",
       "      <th>Lng</th>\n",
       "      <th>Max Temp</th>\n",
       "      <th>Humidity</th>\n",
       "      <th>Cloudiness</th>\n",
       "      <th>Wind Speed</th>\n",
       "      <th>Rain in Last 3 Hours (inches)</th>\n",
       "      <th>Snow in Last 3 Hours (inches)</th>\n",
       "      <th>Weather Description</th>\n",
       "      <th>Hotel Name</th>\n",
       "    </tr>\n",
       "  </thead>\n",
       "  <tbody>\n",
       "    <tr>\n",
       "      <td>122</td>\n",
       "      <td>472</td>\n",
       "      <td>Vila Velha</td>\n",
       "      <td>BR</td>\n",
       "      <td>2019-10-22 06:23:57</td>\n",
       "      <td>-3.71</td>\n",
       "      <td>-38.6</td>\n",
       "      <td>78.8</td>\n",
       "      <td>78</td>\n",
       "      <td>40</td>\n",
       "      <td>5.82</td>\n",
       "      <td>0.0</td>\n",
       "      <td>0.0</td>\n",
       "      <td>scattered clouds</td>\n",
       "      <td>Hotel Iparana Paradise</td>\n",
       "    </tr>\n",
       "  </tbody>\n",
       "</table>\n",
       "</div>"
      ],
      "text/plain": [
       "     Unnamed: 0        City Country                 Date   Lat   Lng  \\\n",
       "122         472  Vila Velha      BR  2019-10-22 06:23:57 -3.71 -38.6   \n",
       "\n",
       "     Max Temp  Humidity  Cloudiness  Wind Speed  \\\n",
       "122      78.8        78          40        5.82   \n",
       "\n",
       "     Rain in Last 3 Hours (inches)  Snow in Last 3 Hours (inches)  \\\n",
       "122                            0.0                            0.0   \n",
       "\n",
       "    Weather Description              Hotel Name  \n",
       "122    scattered clouds  Hotel Iparana Paradise  "
      ]
     },
     "execution_count": 5,
     "metadata": {},
     "output_type": "execute_result"
    }
   ],
   "source": [
    "Vila_Velha = vacation_df.loc[vacation_df[\"City\"] == \"Vila Velha\"]\n",
    "Vila_Velha"
   ]
  },
  {
   "cell_type": "code",
   "execution_count": 6,
   "metadata": {},
   "outputs": [
    {
     "data": {
      "text/html": [
       "<div>\n",
       "<style scoped>\n",
       "    .dataframe tbody tr th:only-of-type {\n",
       "        vertical-align: middle;\n",
       "    }\n",
       "\n",
       "    .dataframe tbody tr th {\n",
       "        vertical-align: top;\n",
       "    }\n",
       "\n",
       "    .dataframe thead th {\n",
       "        text-align: right;\n",
       "    }\n",
       "</style>\n",
       "<table border=\"1\" class=\"dataframe\">\n",
       "  <thead>\n",
       "    <tr style=\"text-align: right;\">\n",
       "      <th></th>\n",
       "      <th>Unnamed: 0</th>\n",
       "      <th>City</th>\n",
       "      <th>Country</th>\n",
       "      <th>Date</th>\n",
       "      <th>Lat</th>\n",
       "      <th>Lng</th>\n",
       "      <th>Max Temp</th>\n",
       "      <th>Humidity</th>\n",
       "      <th>Cloudiness</th>\n",
       "      <th>Wind Speed</th>\n",
       "      <th>Rain in Last 3 Hours (inches)</th>\n",
       "      <th>Snow in Last 3 Hours (inches)</th>\n",
       "      <th>Weather Description</th>\n",
       "      <th>Hotel Name</th>\n",
       "    </tr>\n",
       "  </thead>\n",
       "  <tbody>\n",
       "    <tr>\n",
       "      <td>136</td>\n",
       "      <td>520</td>\n",
       "      <td>Itarema</td>\n",
       "      <td>BR</td>\n",
       "      <td>2019-10-22 06:23:52</td>\n",
       "      <td>-2.92</td>\n",
       "      <td>-39.92</td>\n",
       "      <td>77.22</td>\n",
       "      <td>73</td>\n",
       "      <td>73</td>\n",
       "      <td>7.16</td>\n",
       "      <td>0.0</td>\n",
       "      <td>0.0</td>\n",
       "      <td>broken clouds</td>\n",
       "      <td>Windvillage</td>\n",
       "    </tr>\n",
       "  </tbody>\n",
       "</table>\n",
       "</div>"
      ],
      "text/plain": [
       "     Unnamed: 0     City Country                 Date   Lat    Lng  Max Temp  \\\n",
       "136         520  Itarema      BR  2019-10-22 06:23:52 -2.92 -39.92     77.22   \n",
       "\n",
       "     Humidity  Cloudiness  Wind Speed  Rain in Last 3 Hours (inches)  \\\n",
       "136        73          73        7.16                            0.0   \n",
       "\n",
       "     Snow in Last 3 Hours (inches) Weather Description   Hotel Name  \n",
       "136                            0.0       broken clouds  Windvillage  "
      ]
     },
     "execution_count": 6,
     "metadata": {},
     "output_type": "execute_result"
    }
   ],
   "source": [
    "Itarema = vacation_df.loc[vacation_df[\"City\"] == \"Itarema\"]\n",
    "Itarema"
   ]
  },
  {
   "cell_type": "code",
   "execution_count": 7,
   "metadata": {},
   "outputs": [
    {
     "data": {
      "text/html": [
       "<div>\n",
       "<style scoped>\n",
       "    .dataframe tbody tr th:only-of-type {\n",
       "        vertical-align: middle;\n",
       "    }\n",
       "\n",
       "    .dataframe tbody tr th {\n",
       "        vertical-align: top;\n",
       "    }\n",
       "\n",
       "    .dataframe thead th {\n",
       "        text-align: right;\n",
       "    }\n",
       "</style>\n",
       "<table border=\"1\" class=\"dataframe\">\n",
       "  <thead>\n",
       "    <tr style=\"text-align: right;\">\n",
       "      <th></th>\n",
       "      <th>Unnamed: 0</th>\n",
       "      <th>City</th>\n",
       "      <th>Country</th>\n",
       "      <th>Date</th>\n",
       "      <th>Lat</th>\n",
       "      <th>Lng</th>\n",
       "      <th>Max Temp</th>\n",
       "      <th>Humidity</th>\n",
       "      <th>Cloudiness</th>\n",
       "      <th>Wind Speed</th>\n",
       "      <th>Rain in Last 3 Hours (inches)</th>\n",
       "      <th>Snow in Last 3 Hours (inches)</th>\n",
       "      <th>Weather Description</th>\n",
       "      <th>Hotel Name</th>\n",
       "    </tr>\n",
       "  </thead>\n",
       "  <tbody>\n",
       "    <tr>\n",
       "      <td>39</td>\n",
       "      <td>139</td>\n",
       "      <td>Morros</td>\n",
       "      <td>BR</td>\n",
       "      <td>2019-10-22 06:26:04</td>\n",
       "      <td>-2.87</td>\n",
       "      <td>-44.04</td>\n",
       "      <td>78.8</td>\n",
       "      <td>88</td>\n",
       "      <td>20</td>\n",
       "      <td>9.17</td>\n",
       "      <td>0.0</td>\n",
       "      <td>0.0</td>\n",
       "      <td>few clouds</td>\n",
       "      <td>Pousada Quebra Anzol</td>\n",
       "    </tr>\n",
       "  </tbody>\n",
       "</table>\n",
       "</div>"
      ],
      "text/plain": [
       "    Unnamed: 0    City Country                 Date   Lat    Lng  Max Temp  \\\n",
       "39         139  Morros      BR  2019-10-22 06:26:04 -2.87 -44.04      78.8   \n",
       "\n",
       "    Humidity  Cloudiness  Wind Speed  Rain in Last 3 Hours (inches)  \\\n",
       "39        88          20        9.17                            0.0   \n",
       "\n",
       "    Snow in Last 3 Hours (inches) Weather Description            Hotel Name  \n",
       "39                            0.0          few clouds  Pousada Quebra Anzol  "
      ]
     },
     "execution_count": 7,
     "metadata": {},
     "output_type": "execute_result"
    }
   ],
   "source": [
    "Morros = vacation_df.loc[vacation_df[\"City\"] == \"Morros\"]\n",
    "Morros"
   ]
  },
  {
   "cell_type": "code",
   "execution_count": 8,
   "metadata": {},
   "outputs": [
    {
     "data": {
      "text/html": [
       "<div>\n",
       "<style scoped>\n",
       "    .dataframe tbody tr th:only-of-type {\n",
       "        vertical-align: middle;\n",
       "    }\n",
       "\n",
       "    .dataframe tbody tr th {\n",
       "        vertical-align: top;\n",
       "    }\n",
       "\n",
       "    .dataframe thead th {\n",
       "        text-align: right;\n",
       "    }\n",
       "</style>\n",
       "<table border=\"1\" class=\"dataframe\">\n",
       "  <thead>\n",
       "    <tr style=\"text-align: right;\">\n",
       "      <th></th>\n",
       "      <th>Unnamed: 0</th>\n",
       "      <th>City</th>\n",
       "      <th>Country</th>\n",
       "      <th>Date</th>\n",
       "      <th>Lat</th>\n",
       "      <th>Lng</th>\n",
       "      <th>Max Temp</th>\n",
       "      <th>Humidity</th>\n",
       "      <th>Cloudiness</th>\n",
       "      <th>Wind Speed</th>\n",
       "      <th>Rain in Last 3 Hours (inches)</th>\n",
       "      <th>Snow in Last 3 Hours (inches)</th>\n",
       "      <th>Weather Description</th>\n",
       "      <th>Hotel Name</th>\n",
       "    </tr>\n",
       "  </thead>\n",
       "  <tbody>\n",
       "    <tr>\n",
       "      <td>24</td>\n",
       "      <td>89</td>\n",
       "      <td>Carutapera</td>\n",
       "      <td>BR</td>\n",
       "      <td>2019-10-22 06:25:50</td>\n",
       "      <td>-1.2</td>\n",
       "      <td>-46.02</td>\n",
       "      <td>79.92</td>\n",
       "      <td>82</td>\n",
       "      <td>34</td>\n",
       "      <td>12.62</td>\n",
       "      <td>0.0</td>\n",
       "      <td>0.0</td>\n",
       "      <td>scattered clouds</td>\n",
       "      <td>Lidera</td>\n",
       "    </tr>\n",
       "  </tbody>\n",
       "</table>\n",
       "</div>"
      ],
      "text/plain": [
       "    Unnamed: 0        City Country                 Date  Lat    Lng  Max Temp  \\\n",
       "24          89  Carutapera      BR  2019-10-22 06:25:50 -1.2 -46.02     79.92   \n",
       "\n",
       "    Humidity  Cloudiness  Wind Speed  Rain in Last 3 Hours (inches)  \\\n",
       "24        82          34       12.62                            0.0   \n",
       "\n",
       "    Snow in Last 3 Hours (inches) Weather Description Hotel Name  \n",
       "24                            0.0    scattered clouds     Lidera  "
      ]
     },
     "execution_count": 8,
     "metadata": {},
     "output_type": "execute_result"
    }
   ],
   "source": [
    "Carutapera = vacation_df.loc[vacation_df[\"City\"] == \"Carutapera\"]\n",
    "Carutapera"
   ]
  },
  {
   "cell_type": "code",
   "execution_count": 42,
   "metadata": {},
   "outputs": [
    {
     "data": {
      "text/plain": [
       "(-3.71, -38.6)"
      ]
     },
     "execution_count": 42,
     "metadata": {},
     "output_type": "execute_result"
    }
   ],
   "source": [
    "Vila_Velha_loc = tuple(tuple(Vila_Velha[[\"Lat\", \"Lng\"]].values)[0])\n",
    "Vila_Velha_loc"
   ]
  },
  {
   "cell_type": "code",
   "execution_count": 43,
   "metadata": {},
   "outputs": [
    {
     "data": {
      "text/plain": [
       "(-2.92, -39.92)"
      ]
     },
     "execution_count": 43,
     "metadata": {},
     "output_type": "execute_result"
    }
   ],
   "source": [
    "Itarema_loc = tuple(tuple(Itarema[[\"Lat\", \"Lng\"]].values)[0])\n",
    "Itarema_loc"
   ]
  },
  {
   "cell_type": "code",
   "execution_count": 44,
   "metadata": {},
   "outputs": [
    {
     "data": {
      "text/plain": [
       "(-2.87, -44.04)"
      ]
     },
     "execution_count": 44,
     "metadata": {},
     "output_type": "execute_result"
    }
   ],
   "source": [
    "Morros_loc = tuple(tuple(Morros[[\"Lat\", \"Lng\"]].values)[0])\n",
    "Morros_loc"
   ]
  },
  {
   "cell_type": "code",
   "execution_count": 45,
   "metadata": {},
   "outputs": [
    {
     "data": {
      "text/plain": [
       "(-1.2, -46.02)"
      ]
     },
     "execution_count": 45,
     "metadata": {},
     "output_type": "execute_result"
    }
   ],
   "source": [
    "Carutapera_loc = tuple(tuple(Carutapera[[\"Lat\", \"Lng\"]].values)[0])\n",
    "Carutapera_loc"
   ]
  },
  {
   "cell_type": "code",
   "execution_count": 17,
   "metadata": {},
   "outputs": [],
   "source": [
    "info_box_template = \"\"\"\n",
    "<dl>\n",
    "<dt>Hotel Name</dt><dd>{Hotel Name}</dd>\n",
    "<dt>City</dt><dd>{City}</dd>\n",
    "<dt>Country</dt><dd>{Country}</dd>\n",
    "<dt>Current Weather</dt><dd>{Weather Description} and {Max Temp} °F</dd>\n",
    "</dl>\n",
    "\"\"\""
   ]
  },
  {
   "cell_type": "code",
   "execution_count": 46,
   "metadata": {},
   "outputs": [],
   "source": [
    "# Store the DataFrame Row.\n",
    "hotel_info = [info_box_template.format(**row) for index, row in four_cities_df.iterrows()]"
   ]
  },
  {
   "cell_type": "code",
   "execution_count": 50,
   "metadata": {},
   "outputs": [
    {
     "data": {
      "text/plain": [
       "[(-2.92, -39.92), (-2.87, -44.04)]"
      ]
     },
     "execution_count": 50,
     "metadata": {},
     "output_type": "execute_result"
    }
   ],
   "source": [
    "waypoints = [Itarema_loc, Morros_loc]\n",
    "waypoints"
   ]
  },
  {
   "cell_type": "code",
   "execution_count": 63,
   "metadata": {},
   "outputs": [
    {
     "data": {
      "application/vnd.jupyter.widget-view+json": {
       "model_id": "627043ff2ec54b89943b155d281fca32",
       "version_major": 2,
       "version_minor": 0
      },
      "text/plain": [
       "Figure(layout=FigureLayout(height='420px'))"
      ]
     },
     "metadata": {},
     "output_type": "display_data"
    }
   ],
   "source": [
    "# Add a heatmap of temperature for the vacation spots and a pop-up marker for each city.\n",
    "locations = four_cities_df[[\"Lat\", \"Lng\"]]\n",
    "max_temp = four_cities_df[\"Max Temp\"]\n",
    "fig = gmaps.figure(center=(0, -45.0), zoom_level=4.5)\n",
    "heat_layer = gmaps.heatmap_layer(locations, weights=max_temp,dissipating=False, \n",
    "             max_intensity=300, point_radius=4)\n",
    "marker_layer = gmaps.marker_layer(locations, info_box_content=hotel_info)\n",
    "# fig.add_layer(heat_layer)\n",
    "fig.add_layer(marker_layer)\n",
    "directions = gmaps.directions_layer(Vila_Velha_loc, Carutapera_loc, waypoints=waypoints, travel_mode='DRIVING')\n",
    "fig.add_layer(directions)\n",
    "# Call the figure to plot the data.\n",
    "fig"
   ]
  },
  {
   "cell_type": "code",
   "execution_count": null,
   "metadata": {},
   "outputs": [],
   "source": []
  }
 ],
 "metadata": {
  "kernelspec": {
   "display_name": "Python [conda env:Pythondata]",
   "language": "python",
   "name": "conda-env-Pythondata-py"
  },
  "language_info": {
   "codemirror_mode": {
    "name": "ipython",
    "version": 3
   },
   "file_extension": ".py",
   "mimetype": "text/x-python",
   "name": "python",
   "nbconvert_exporter": "python",
   "pygments_lexer": "ipython3",
   "version": "3.6.7"
  }
 },
 "nbformat": 4,
 "nbformat_minor": 2
}
